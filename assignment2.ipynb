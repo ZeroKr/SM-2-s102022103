{
 "cells": [
  {
   "cell_type": "code",
   "execution_count": 103,
   "metadata": {},
   "outputs": [],
   "source": [
    "import numpy as np\n",
    "import matplotlib.pyplot as plt\n",
    "import random \n",
    "from   itertools import product\n",
    "from   collections import Counter"
   ]
  },
  {
   "cell_type": "markdown",
   "metadata": {},
   "source": [
    "## Problem 1: Generalized dice\n",
    "### 1.Modify your computer program to simulate the roll of N dice. Your program should let the dice have any number of sides, but the same number of sides for each die. The number of dice and the number of sides should be read in at the start of the program. One trial will consist of N rolls. Your program should calculate the sum of the N numbers that occur during each trial. It should also compare the results for the mean, variance, and standard deviation of that sum with the theoretical predictions."
   ]
  },
  {
   "cell_type": "code",
   "execution_count": 121,
   "metadata": {},
   "outputs": [
    {
     "name": "stdout",
     "output_type": "stream",
     "text": [
      "sides    numbers\n",
      " 4             3\n",
      " 6             3\n",
      "------------------------------------\n",
      "sum        count\n",
      " 6             8\n",
      " 7            42\n",
      " 8           144\n",
      " 9           375\n",
      "10           954\n",
      "11          1673\n",
      "12          2974\n",
      "13          4418\n",
      "14          6106\n",
      "15          7912\n",
      "16          9434\n",
      "17         10522\n",
      "18         10960\n",
      "19         10623\n",
      "20          9487\n",
      "21          7840\n",
      "22          6142\n",
      "23          4298\n",
      "24          2890\n",
      "25          1688\n",
      "26           892\n",
      "27           411\n",
      "28           155\n",
      "29            45\n",
      "30             7\n",
      "average:      17.9909    \n",
      "variance:     12.5265    \n",
      "deviation:    3.5393     \n"
     ]
    },
    {
     "data": {
      "image/png": "[encoded data removed]",
      "text/plain": [
       "<Figure size 432x288 with 1 Axes>"
      ]
     },
     "metadata": {},
     "output_type": "display_data"
    }
   ],
   "source": [
    "def dice(s):\n",
    "    \"\"\" given how many sides, return one trial of throwing a dice of s sides\"\"\"\n",
    "    return random.randint(1,s)\n",
    "\n",
    "def one_trial(*pairs): #(sides,numbers)\n",
    "    \"\"\"given the sides and numbers of dices,return the result of one trial\"\"\"\n",
    "    result = []\n",
    "    for pair in pairs:\n",
    "        sides,numbers = pair\n",
    "        result += [dice(sides) for _ in range(numbers)]\n",
    "    return result\n",
    "\n",
    "def sum_dices(*pairs,N=100):\n",
    "    \"\"\"given N trials, return the sum of the dices\"\"\"\n",
    "    count = Counter([sum(one_trial(*pairs)) for _ in range(N)])\n",
    "    return count\n",
    "\n",
    "def display(*pairs,trials=100):\n",
    "    print(\"sides\"+\" \"*4+\"numbers\")\n",
    "    for pair in pairs:\n",
    "        print(\"{:2}{:>14}\".format(pair[0],pair[1]))\n",
    "    result = sum_dices(*pairs,N=trials)\n",
    "    order  = sorted(result.keys())\n",
    "    print(\"------------------------------------\")\n",
    "    print(\"sum\"+\" \"*8+\"count\")\n",
    "    for o in order:\n",
    "        print(\"{:2}{:>14}\".format(o,result[o]))\n",
    "    cal_a  = sum([num*times/trials for (num,times) in result.items()])\n",
    "    cal_v  = sum([num**2*times/trials for (num,times) in result.items() ])-cal_a**2\n",
    "    cal_s  = cal_v**(1/2)\n",
    "    print(\"average:  {:^15.4f}\".format(cal_a))\n",
    "    print(\"variance: {:^15.4f}\".format(cal_v))\n",
    "    print(\"deviation:{:^15.4f}\".format(cal_s))\n",
    "    X,Y = zip(*result.items())\n",
    "    plt.scatter(X,Y)\n",
    "    plt.xlabel(\"sum of dice\")\n",
    "    plt.ylabel(\"count\")\n",
    "display((4,3),(6,3),trials=100000)"
   ]
  },
  {
   "cell_type": "markdown",
   "metadata": {},
   "source": [
    "As for the theoretical calculation, I can solve it with some simple summention formulas, therefore I would trust the result would bet the same as we assume the probability is uniform and then calculate the mean,variance and standard deviation."
   ]
  },
  {
   "cell_type": "code",
   "execution_count": 122,
   "metadata": {},
   "outputs": [
    {
     "name": "stdout",
     "output_type": "stream",
     "text": [
      "(6.0, 4.166666666666664, 2.0412414523193143)\n"
     ]
    }
   ],
   "source": [
    "def situations(*pairs):\n",
    "    \"\"\"given the pairs of (sides,numbers) and return all the situation of one trial\"\"\"\n",
    "    def calculate(pairs):\n",
    "        if  len(pairs)==1:\n",
    "            pair = pairs[0]\n",
    "            sides,numbers = pair[0],pair[1]\n",
    "            return list(map(\"\".join,product(''.join([str(s) for s in range(1,sides+1)]),repeat=numbers)))\n",
    "        elif len(pairs)>=2:\n",
    "            return [a+b for a,b in product(calculate([pairs[0]]),calculate(pairs[1:]))]\n",
    "    return calculate(pairs)\n",
    "def predict_sum(total_situations):\n",
    "    count = Counter(list(map(sum,[[int(x) for x in s] for s in total_situations])))\n",
    "    pre_a  = sum([num*times/len(total_situations) for (num,times) in count.items()])\n",
    "    pre_v  = sum([num**2*times/len(total_situations) for (num,times) in count.items() ])-pre_a**2\n",
    "    pre_s  = pre_v**(1/2)\n",
    "    return pre_a,pre_v,pre_s\n",
    "\n",
    "total = (situations((4,1),(6,1)))\n",
    "print(predict_sum(total))"
   ]
  },
  {
   "cell_type": "markdown",
   "metadata": {},
   "source": [
    "something interesting is that we find **the average,variance of the sum is the same as the sum of individual average and variance **"
   ]
  },
  {
   "cell_type": "code",
   "execution_count": 124,
   "metadata": {},
   "outputs": [
    {
     "name": "stdout",
     "output_type": "stream",
     "text": [
      "(9.5, 7.083333333333329, 2.6614532371118846)\n",
      "(7.000000000000001, 5.833333333333314, 2.415229457698236)\n",
      "[16.5, 12.916666666666643, 5.0766826948101205]\n"
     ]
    }
   ],
   "source": [
    "test1 = predict_sum(situations((4,1),(6,2)))\n",
    "test2 = predict_sum(situations((6,2)))\n",
    "individual_sum = list(map(lambda x,y: x+y,test1,test2))\n",
    "print(test1)\n",
    "print(test2)\n",
    "print(individual_sum)"
   ]
  },
  {
   "cell_type": "markdown",
   "metadata": {},
   "source": [
    "The average is not so surprising, for we know the average itself is a linear calculation. \n",
    "But what about variance? </br>\n",
    "I spent some time searching and find some useful infomation.https://stats.stackexchange.com/questions/184998/the-linearity-of-variance . Roughly, if two random variables are indepdent, then the sum of variance would be the same as variance of the sum of these two random variable. Which specify the situation we encounter."
   ]
  },
  {
   "cell_type": "markdown",
   "metadata": {},
   "source": [
    "### 2.Test the calculations that we have carried out for the mean, variance, and standard deviation of the sum of the numbers on the dice. In each case, obtain data for a couple of different run-lengths. Investigate the cases listed below. (a) Two dice, each with ten sides. (b) Ten dice, each with twenty sides."
   ]
  },
  {
   "cell_type": "code",
   "execution_count": 34,
   "metadata": {},
   "outputs": [
    {
     "name": "stdout",
     "output_type": "stream",
     "text": [
      "[(('a', 'a'), ('a', 'a')), (('a', 'a'), ('a', 'd')), (('a', 'a'), ('d', 'a')), (('a', 'a'), ('d', 'd')), (('a', 'd'), ('a', 'a')), (('a', 'd'), ('a', 'd')), (('a', 'd'), ('d', 'a')), (('a', 'd'), ('d', 'd')), (('d', 'a'), ('a', 'a')), (('d', 'a'), ('a', 'd')), (('d', 'a'), ('d', 'a')), (('d', 'a'), ('d', 'd')), (('d', 'd'), ('a', 'a')), (('d', 'd'), ('a', 'd')), (('d', 'd'), ('d', 'a')), (('d', 'd'), ('d', 'd'))]\n"
     ]
    }
   ],
   "source": []
  },
  {
   "cell_type": "code",
   "execution_count": 36,
   "metadata": {},
   "outputs": [
    {
     "name": "stdout",
     "output_type": "stream",
     "text": [
      "123\n",
      "[((1, 1), (1, 1)), ((1, 1), (1, 2)), ((1, 1), (1, 3)), ((1, 1), (2, 1)), ((1, 1), (2, 2)), ((1, 1), (2, 3)), ((1, 1), (3, 1)), ((1, 1), (3, 2)), ((1, 1), (3, 3)), ((1, 2), (1, 1)), ((1, 2), (1, 2)), ((1, 2), (1, 3)), ((1, 2), (2, 1)), ((1, 2), (2, 2)), ((1, 2), (2, 3)), ((1, 2), (3, 1)), ((1, 2), (3, 2)), ((1, 2), (3, 3)), ((1, 3), (1, 1)), ((1, 3), (1, 2)), ((1, 3), (1, 3)), ((1, 3), (2, 1)), ((1, 3), (2, 2)), ((1, 3), (2, 3)), ((1, 3), (3, 1)), ((1, 3), (3, 2)), ((1, 3), (3, 3)), ((2, 1), (1, 1)), ((2, 1), (1, 2)), ((2, 1), (1, 3)), ((2, 1), (2, 1)), ((2, 1), (2, 2)), ((2, 1), (2, 3)), ((2, 1), (3, 1)), ((2, 1), (3, 2)), ((2, 1), (3, 3)), ((2, 2), (1, 1)), ((2, 2), (1, 2)), ((2, 2), (1, 3)), ((2, 2), (2, 1)), ((2, 2), (2, 2)), ((2, 2), (2, 3)), ((2, 2), (3, 1)), ((2, 2), (3, 2)), ((2, 2), (3, 3)), ((2, 3), (1, 1)), ((2, 3), (1, 2)), ((2, 3), (1, 3)), ((2, 3), (2, 1)), ((2, 3), (2, 2)), ((2, 3), (2, 3)), ((2, 3), (3, 1)), ((2, 3), (3, 2)), ((2, 3), (3, 3)), ((3, 1), (1, 1)), ((3, 1), (1, 2)), ((3, 1), (1, 3)), ((3, 1), (2, 1)), ((3, 1), (2, 2)), ((3, 1), (2, 3)), ((3, 1), (3, 1)), ((3, 1), (3, 2)), ((3, 1), (3, 3)), ((3, 2), (1, 1)), ((3, 2), (1, 2)), ((3, 2), (1, 3)), ((3, 2), (2, 1)), ((3, 2), (2, 2)), ((3, 2), (2, 3)), ((3, 2), (3, 1)), ((3, 2), (3, 2)), ((3, 2), (3, 3)), ((3, 3), (1, 1)), ((3, 3), (1, 2)), ((3, 3), (1, 3)), ((3, 3), (2, 1)), ((3, 3), (2, 2)), ((3, 3), (2, 3)), ((3, 3), (3, 1)), ((3, 3), (3, 2)), ((3, 3), (3, 3))]\n"
     ]
    }
   ],
   "source": []
  },
  {
   "cell_type": "code",
   "execution_count": 39,
   "metadata": {},
   "outputs": [
    {
     "name": "stdout",
     "output_type": "stream",
     "text": [
      "((4, 2), (6, 1), (2, 1))\n"
     ]
    }
   ],
   "source": [
    "def total(*pairs):\n",
    "    return pairs\n",
    "print((total((4,2),(6,1),(2,1))))"
   ]
  },
  {
   "cell_type": "code",
   "execution_count": null,
   "metadata": {},
   "outputs": [],
   "source": []
  }
 ],
 "metadata": {
  "kernelspec": {
   "display_name": "Python 3",
   "language": "python",
   "name": "python3"
  },
  "language_info": {
   "codemirror_mode": {
    "name": "ipython",
    "version": 3
   },
   "file_extension": ".py",
   "mimetype": "text/x-python",
   "name": "python",
   "nbconvert_exporter": "python",
   "pygments_lexer": "ipython3",
   "version": "3.6.4"
  }
 },
 "nbformat": 4,
 "nbformat_minor": 2
}
